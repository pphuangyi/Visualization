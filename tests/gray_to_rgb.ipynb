{
 "cells": [
  {
   "cell_type": "markdown",
   "id": "ff901649-93f8-457a-8638-e01b4da8c9bd",
   "metadata": {},
   "source": [
    "# Test gray scale coloring\n",
    "Coloring gray scale image to display beautifully in tensorboard"
   ]
  },
  {
   "cell_type": "code",
   "execution_count": 1,
   "id": "e441a2ab-ca06-410e-8573-1e3dfd13cb3b",
   "metadata": {},
   "outputs": [],
   "source": [
    "from torch.utils.data import DataLoader\n",
    "from torch.utils.tensorboard import SummaryWriter\n",
    "import torchvision"
   ]
  },
  {
   "cell_type": "code",
   "execution_count": 2,
   "id": "59dba205-ef05-441f-8d6f-10f61ecf6b53",
   "metadata": {},
   "outputs": [],
   "source": [
    "%load_ext autoreload\n",
    "%autoreload 2\n",
    "\n",
    "from dataset_apis.ae_dataset import AEDataset\n",
    "from visualization.gray_to_rgb import Color"
   ]
  },
  {
   "cell_type": "markdown",
   "id": "4d580d9b-086e-4ebe-b1be-41ae2fcebb6f",
   "metadata": {},
   "source": [
    "## Load data"
   ]
  },
  {
   "cell_type": "code",
   "execution_count": 3,
   "id": "0c8e7a8b-929e-49d7-90a6-1110e50396d6",
   "metadata": {},
   "outputs": [],
   "source": [
    "dataroot = '/data/datasets/LS4GAN/toy-adc_256x256_precropped/train/'\n",
    "# In case you don't have the following dataset api, \n",
    "# just load a few (grayscale) images, \n",
    "# unsqueeze at dim 0 (and concatenate along dim 0\n",
    "dataset = AEDataset(dataroot, loader='numpy', extension='npz', max_dataset_size=32)\n",
    "dataloader = DataLoader(dataset, batch_size=4)"
   ]
  },
  {
   "cell_type": "markdown",
   "id": "271ec1c8-f02c-47b5-8c94-5bacd4c6bbbc",
   "metadata": {},
   "source": [
    "## Coloring images and write to in tensorboard"
   ]
  },
  {
   "cell_type": "code",
   "execution_count": 4,
   "id": "0d170d0c-8c6e-4e55-83f3-ac19c3d31063",
   "metadata": {},
   "outputs": [],
   "source": [
    "images = next(iter(dataloader))\n",
    "\n",
    "writer = SummaryWriter()\n",
    "\n",
    "color = Color(vcenter=0.)\n",
    "\n",
    "images = color(images)\n",
    "grid = torchvision.utils.make_grid(images)\n",
    "writer.add_image('images', grid, 0)\n",
    "writer.close()"
   ]
  },
  {
   "cell_type": "markdown",
   "id": "9c9d6ad4-8386-4e1a-836b-57fdfa842133",
   "metadata": {},
   "source": [
    "Now, log in to the remote server where the test is running with \n",
    "> `ssh -L 16006:localhost:6006 [username]@[servername]`\n",
    "\n",
    "and in folder `tests/`, run \n",
    "> `tensorboard --logdir runs`\n",
    "\n",
    "to see the figures.\n",
    "\n",
    "Or simply save the image to have a look."
   ]
  },
  {
   "cell_type": "code",
   "execution_count": 6,
   "id": "211dee94-4fed-471a-85fb-2392885890e4",
   "metadata": {},
   "outputs": [],
   "source": [
    "torchvision.utils.save_image(grid, 'runs/image.png')"
   ]
  }
 ],
 "metadata": {
  "kernelspec": {
   "display_name": "Python 3 (ipykernel)",
   "language": "python",
   "name": "python3"
  },
  "language_info": {
   "codemirror_mode": {
    "name": "ipython",
    "version": 3
   },
   "file_extension": ".py",
   "mimetype": "text/x-python",
   "name": "python",
   "nbconvert_exporter": "python",
   "pygments_lexer": "ipython3",
   "version": "3.9.4"
  }
 },
 "nbformat": 4,
 "nbformat_minor": 5
}
